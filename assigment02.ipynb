{
  "nbformat": 4,
  "nbformat_minor": 0,
  "metadata": {
    "colab": {
      "name": "assigment02.ipynb",
      "provenance": [],
      "collapsed_sections": [],
      "authorship_tag": "ABX9TyNCcKLZhAQfd+pHU4165WuH",
      "include_colab_link": true
    },
    "kernelspec": {
      "name": "python3",
      "display_name": "Python 3"
    }
  },
  "cells": [
    {
      "cell_type": "markdown",
      "metadata": {
        "id": "view-in-github",
        "colab_type": "text"
      },
      "source": [
        "<a href=\"https://colab.research.google.com/github/vikasmastud7/machinelearning/blob/master/assigment02.ipynb\" target=\"_parent\"><img src=\"https://colab.research.google.com/assets/colab-badge.svg\" alt=\"Open In Colab\"/></a>"
      ]
    },
    {
      "cell_type": "markdown",
      "metadata": {
        "id": "6XPsdWYOsECE",
        "colab_type": "text"
      },
      "source": [
        "<H1>Assignment 02</H1>"
      ]
    },
    {
      "cell_type": "markdown",
      "metadata": {
        "id": "VXqTpO5NsK4S",
        "colab_type": "text"
      },
      "source": [
        "<h2>Task 1:</h2>\n",
        "<h3>1.1</h3>\n",
        "<p>\n",
        "Write a Python Program to implement your own myreduce() function which works exactly like\n",
        "Python's built-in function reduce()</p>"
      ]
    },
    {
      "cell_type": "code",
      "metadata": {
        "id": "ksjCePCNsJYo",
        "colab_type": "code",
        "colab": {}
      },
      "source": [
        "def myreduce(expression , iterable , initializer=None):\n",
        "    if len(iterable) == 0:\n",
        "        return 0\n",
        "    if initializer ==None:\n",
        "        initializer = iterable[0]\n",
        "    accum_value = initializer\n",
        "    for i in range(1,len(iterable)):\n",
        "        accum_value = expression(accum_value , iterable[i])\n",
        "\n",
        "    return accum_value\n",
        "    \n",
        "\n",
        "from functools import reduce \n",
        "\n",
        "assert myreduce(lambda a, b : a + b,[1,2,1,3,6])==reduce(lambda a, b : a + b,[1,2,1,3,6]) \n",
        "assert myreduce(lambda a, b : a / b,[1,2,1,3,6])==reduce(lambda a, b : a / b,[1,2,1,3,6])\n",
        "assert myreduce(lambda a, b : a - b,[1,2,1,3,6])==reduce(lambda a, b : a - b,[1,2,1,3,6])\n",
        "assert myreduce(lambda a, b : a * b,[1,2,1,3,6])==reduce(lambda a, b : a * b,[1,2,1,3,6])\n",
        "\n"
      ],
      "execution_count": 0,
      "outputs": []
    },
    {
      "cell_type": "markdown",
      "metadata": {
        "id": "wWhYpsortGek",
        "colab_type": "text"
      },
      "source": [
        "<h3>1.2</3>\n",
        "<p>Write a Python program to implement your own myfilter() function which works exactly like\n",
        "Python's built-in function filter()</p>"
      ]
    },
    {
      "cell_type": "code",
      "metadata": {
        "id": "_MHAv83ctG32",
        "colab_type": "code",
        "colab": {}
      },
      "source": [
        "def myfilter(expression, iterable):\n",
        "  if len(iterable) == 0:\n",
        "    return 0\n",
        "  ans = []\n",
        "  for i in iterable:\n",
        "    if expression(i):\n",
        "      ans.append(i)\n",
        "  return ans\n",
        "\n",
        "# def  myfilter(expression , iterable):\n",
        "#   if len(iterable) == 0:return 0\n",
        "#   ans = []\n",
        "#   for i in iterable:\n",
        "#     if expression(i):ans.append(i)\n",
        "#   return ans\n",
        "\n",
        "assert myfilter(lambda a: a > 2 ,[1,2,1,3,1]) == list(filter(lambda a: a > 2 ,[1,2,1,3,1]))\n",
        "assert myfilter(lambda a: a % 2 ==0,[1,2,1,3,1]) == list(filter(lambda a: a % 2 == 0 ,[1,2,1,3,1]))\n",
        "assert myfilter(lambda a: a == 1 ,[1,2,1,3,1]) == list(filter(lambda a: a == 1 ,[1,2,1,3,1]))"
      ],
      "execution_count": 0,
      "outputs": []
    },
    {
      "cell_type": "markdown",
      "metadata": {
        "id": "aMcncNxW3gU5",
        "colab_type": "text"
      },
      "source": [
        "<h3>2.</h3>\n",
        "<p>Implement List comprehensions to produce the following lists.\n",
        "Write List comprehensions to produce the following Lists<br>\n",
        "['A', 'C', 'A', 'D', 'G', 'I', ’L’, ‘ D’]<br>\n",
        "['x', 'xx', 'xxx', 'xxxx', 'y', 'yy', 'yyy', 'yyyy', 'z', 'zz', 'zzz', 'zzzz']<br>\n",
        "['x', 'y', 'z', 'xx', 'yy', 'zz', 'xx', 'yy', 'zz', 'xxxx', 'yyyy', 'zzzz']<br>\n",
        "[[2], [3], [4], [3], [4], [5], [4], [5], [6]]<br>\n",
        "[[2, 3, 4, 5], [3, 4, 5, 6], [4, 5, 6, 7], [5, 6, 7, 8]]<br>\n",
        "[(1, 1), (2, 1), (3, 1), (1, 2), (2, 2), (3, 2), (1, 3), (2, 3), (3, 3)]\n",
        "</p>"
      ]
    },
    {
      "cell_type": "markdown",
      "metadata": {
        "id": "x4IgGUH2L0hV",
        "colab_type": "text"
      },
      "source": [
        "['A', 'C', 'A', 'D', 'G', 'I', ’L’, ‘ D’]<br>"
      ]
    },
    {
      "cell_type": "code",
      "metadata": {
        "id": "dIjDe8cuAiDQ",
        "colab_type": "code",
        "colab": {
          "base_uri": "https://localhost:8080/",
          "height": 35
        },
        "outputId": "2eda6bef-c095-422e-91f9-d4d0b77441b5"
      },
      "source": [
        "l0 = [ i for i in \"ACADGILD\" ]\n",
        "l0"
      ],
      "execution_count": 3,
      "outputs": [
        {
          "output_type": "execute_result",
          "data": {
            "text/plain": [
              "['A', 'C', 'A', 'D', 'G', 'I', 'L', 'D']"
            ]
          },
          "metadata": {
            "tags": []
          },
          "execution_count": 3
        }
      ]
    },
    {
      "cell_type": "markdown",
      "metadata": {
        "id": "OGWGE-FMMABH",
        "colab_type": "text"
      },
      "source": [
        "['x', 'xx', 'xxx', 'xxxx', 'y', 'yy', 'yyy', 'yyyy', 'z', 'zz', 'zzz', 'zzzz']<br>\n"
      ]
    },
    {
      "cell_type": "code",
      "metadata": {
        "id": "SeZvIv26Ag6s",
        "colab_type": "code",
        "colab": {
          "base_uri": "https://localhost:8080/",
          "height": 35
        },
        "outputId": "27d3a51c-ab0b-4679-8042-b108544efbfd"
      },
      "source": [
        "l1 = [ chr(j) * i  for i in range(1,5)  for j in range(120,123) ]\n",
        "l1"
      ],
      "execution_count": 4,
      "outputs": [
        {
          "output_type": "execute_result",
          "data": {
            "text/plain": [
              "['x', 'y', 'z', 'xx', 'yy', 'zz', 'xxx', 'yyy', 'zzz', 'xxxx', 'yyyy', 'zzzz']"
            ]
          },
          "metadata": {
            "tags": []
          },
          "execution_count": 4
        }
      ]
    },
    {
      "cell_type": "markdown",
      "metadata": {
        "id": "Us-jjv4qMCJ7",
        "colab_type": "text"
      },
      "source": [
        "['x', 'y', 'z', 'xx', 'yy', 'zz', 'xx', 'yy', 'zz', 'xxxx', 'yyyy', 'zzzz']<br>\n"
      ]
    },
    {
      "cell_type": "code",
      "metadata": {
        "id": "id0iWPRF6AD-",
        "colab_type": "code",
        "colab": {
          "base_uri": "https://localhost:8080/",
          "height": 35
        },
        "outputId": "8d7f9e5f-e81e-4be1-9cec-4efdbbf40c12"
      },
      "source": [
        "l2 = [ chr(i) * j for i in range(120,123) for j in range(1,5) ]\n",
        "l2"
      ],
      "execution_count": 5,
      "outputs": [
        {
          "output_type": "execute_result",
          "data": {
            "text/plain": [
              "['x', 'xx', 'xxx', 'xxxx', 'y', 'yy', 'yyy', 'yyyy', 'z', 'zz', 'zzz', 'zzzz']"
            ]
          },
          "metadata": {
            "tags": []
          },
          "execution_count": 5
        }
      ]
    },
    {
      "cell_type": "markdown",
      "metadata": {
        "id": "BL7ut5-MMHKy",
        "colab_type": "text"
      },
      "source": [
        "[[2], [3], [4], [3], [4], [5], [4], [5], [6]]<br>\n"
      ]
    },
    {
      "cell_type": "code",
      "metadata": {
        "id": "pqd1g9bt5r8N",
        "colab_type": "code",
        "colab": {
          "base_uri": "https://localhost:8080/",
          "height": 35
        },
        "outputId": "790100aa-2a60-4c73-cd18-f26efe0367a3"
      },
      "source": [
        "l3 = [ [j] for i in range(2,5) for j in range(i,i+3) ]\n",
        "l3"
      ],
      "execution_count": 6,
      "outputs": [
        {
          "output_type": "execute_result",
          "data": {
            "text/plain": [
              "[[2], [3], [4], [3], [4], [5], [4], [5], [6]]"
            ]
          },
          "metadata": {
            "tags": []
          },
          "execution_count": 6
        }
      ]
    },
    {
      "cell_type": "markdown",
      "metadata": {
        "id": "OS-zUSNgMMGN",
        "colab_type": "text"
      },
      "source": [
        "[[2, 3, 4, 5], [3, 4, 5, 6], [4, 5, 6, 7], [5, 6, 7, 8]]<br>\n"
      ]
    },
    {
      "cell_type": "code",
      "metadata": {
        "id": "gNUmT2H70njo",
        "colab_type": "code",
        "colab": {
          "base_uri": "https://localhost:8080/",
          "height": 35
        },
        "outputId": "7d81df3d-0f8a-4504-9936-b96ccac05b6f"
      },
      "source": [
        "l4 = [ [j for j in range(i,i+4)] for i in range(2,6) ]\n",
        "l4"
      ],
      "execution_count": 7,
      "outputs": [
        {
          "output_type": "execute_result",
          "data": {
            "text/plain": [
              "[[2, 3, 4, 5], [3, 4, 5, 6], [4, 5, 6, 7], [5, 6, 7, 8]]"
            ]
          },
          "metadata": {
            "tags": []
          },
          "execution_count": 7
        }
      ]
    },
    {
      "cell_type": "markdown",
      "metadata": {
        "id": "5PEVKvb3MaBL",
        "colab_type": "text"
      },
      "source": [
        "[(1, 1), (2, 1), (3, 1), (1, 2), (2, 2), (3, 2), (1, 3), (2, 3), (3, 3)]\n",
        "</p>"
      ]
    },
    {
      "cell_type": "code",
      "metadata": {
        "id": "fGueXK5pApPe",
        "colab_type": "code",
        "colab": {
          "base_uri": "https://localhost:8080/",
          "height": 35
        },
        "outputId": "4f91475f-2fca-41cb-9adf-d80152157349"
      },
      "source": [
        "l5 = [ (j,i) \n",
        "        for i in range(1,4)\n",
        "          for j in range(1,4)\n",
        "      ]\n",
        "l5"
      ],
      "execution_count": 8,
      "outputs": [
        {
          "output_type": "execute_result",
          "data": {
            "text/plain": [
              "[(1, 1), (2, 1), (3, 1), (1, 2), (2, 2), (3, 2), (1, 3), (2, 3), (3, 3)]"
            ]
          },
          "metadata": {
            "tags": []
          },
          "execution_count": 8
        }
      ]
    },
    {
      "cell_type": "markdown",
      "metadata": {
        "id": "AusElMQTNDVR",
        "colab_type": "text"
      },
      "source": [
        "<h1>Task 2:</h1>\n",
        "<h2>1.1</h2>\n",
        "<p>Write a Python Program(with class concepts) to find the area of the triangle using the below\n",
        "formula.<br>area = (s*(s-a)*(s-b)*(s-c)) ** 0.5</br>\n",
        "Function to take the length of the sides of triangle from user should be defined in the parent\n",
        "class and function to calculate the area should be defined in subclass.</p>"
      ]
    },
    {
      "cell_type": "code",
      "metadata": {
        "id": "-5Hor3E1KV2d",
        "colab_type": "code",
        "colab": {
          "base_uri": "https://localhost:8080/",
          "height": 35
        },
        "outputId": "da5ef83a-504d-4b91-b573-ad8e5f5d7d50"
      },
      "source": [
        "class Shape:\n",
        "  def __init__(self, a, b, c):\n",
        "    self.a = a\n",
        "    self.b = b\n",
        "    self.c = c\n",
        "\n",
        "class Triangle(Shape):\n",
        "  def __init__(self, *args):\n",
        "    super().__init__(*args)\n",
        "\n",
        "  def area(self):\n",
        "    s = (self.a + self.b + self.c)/2\n",
        "    return  (s*(s-self.a)*(s-self.b)*(s-self.c)) ** 0.5\n",
        "\n",
        "triangle = Triangle(9,11,16)\n",
        "round(triangle.area(),4)"
      ],
      "execution_count": 9,
      "outputs": [
        {
          "output_type": "execute_result",
          "data": {
            "text/plain": [
              "47.6235"
            ]
          },
          "metadata": {
            "tags": []
          },
          "execution_count": 9
        }
      ]
    },
    {
      "cell_type": "markdown",
      "metadata": {
        "id": "-p8JDTk1ui9B",
        "colab_type": "text"
      },
      "source": [
        "<h2>1.2</h2>\n",
        "<p>Write a function filter_long_words() that takes a list of words and an integer n and returns the list\n",
        "of words that are longer than n</p>"
      ]
    },
    {
      "cell_type": "code",
      "metadata": {
        "id": "RSJf9eM6uYh6",
        "colab_type": "code",
        "colab": {
          "base_uri": "https://localhost:8080/",
          "height": 35
        },
        "outputId": "c8d912a7-778e-4aaa-edb0-e5451cfa4ee4"
      },
      "source": [
        "def filter_long_words(words , num):\n",
        "  return list(filter( lambda x : len(x) > num , words))\n",
        "\n",
        "filter_long_words([\"abc\",\"pqrst\",\"xyzabc\",\"d\"], 4)"
      ],
      "execution_count": 10,
      "outputs": [
        {
          "output_type": "execute_result",
          "data": {
            "text/plain": [
              "['pqrst', 'xyzabc']"
            ]
          },
          "metadata": {
            "tags": []
          },
          "execution_count": 10
        }
      ]
    },
    {
      "cell_type": "markdown",
      "metadata": {
        "id": "ArK7RtOMwDeD",
        "colab_type": "text"
      },
      "source": [
        "<h2>2.1</h2>\n",
        "<p>Write a Python program using function concept that maps list of words into a list of integers\n",
        "representing the lengths of the corresponding words​ .<br>\n",
        "Hint: ​ If a list [ ab,cde,erty] is passed on to the python function output should come as [2,3,4]\n",
        "Here 2,3 and 4 are the lengths of the words in the list.</p>"
      ]
    },
    {
      "cell_type": "code",
      "metadata": {
        "id": "nlJbZYpgv58_",
        "colab_type": "code",
        "colab": {
          "base_uri": "https://localhost:8080/",
          "height": 35
        },
        "outputId": "478bdb6a-6a57-411f-80c6-ef1bbc266a05"
      },
      "source": [
        "def len_arr(words):\n",
        "  return list(map(lambda x : len(x) , words))\n",
        "len_arr([\"abc\",\"defg\",\"hijklmn\",\"opqrstuv\"])"
      ],
      "execution_count": 11,
      "outputs": [
        {
          "output_type": "execute_result",
          "data": {
            "text/plain": [
              "[3, 4, 7, 8]"
            ]
          },
          "metadata": {
            "tags": []
          },
          "execution_count": 11
        }
      ]
    },
    {
      "cell_type": "markdown",
      "metadata": {
        "id": "9t-vjXY3xXZX",
        "colab_type": "text"
      },
      "source": [
        "<h3>2.2</h3>\n",
        "<p>Write a Python function which takes a character (i.e. a string of length 1) and returns True if it is\n",
        "a vowel, False otherwise.</p>"
      ]
    },
    {
      "cell_type": "code",
      "metadata": {
        "id": "2GKZ6NYJxPLz",
        "colab_type": "code",
        "colab": {}
      },
      "source": [
        " def is_vowel(c):\n",
        "   s = {\"a\", \"e\" , \"i\" , \"o\", \"u\"}\n",
        "   return c in s\n",
        "assert is_vowel('s') == False\n",
        "assert is_vowel('a') == True"
      ],
      "execution_count": 0,
      "outputs": []
    },
    {
      "cell_type": "code",
      "metadata": {
        "id": "Wh0zLO9KyRIV",
        "colab_type": "code",
        "colab": {
          "base_uri": "https://localhost:8080/",
          "height": 35
        },
        "outputId": "0f132253-214c-4309-c53a-d6e487b193a1"
      },
      "source": [
        "is_vowel('a')"
      ],
      "execution_count": 13,
      "outputs": [
        {
          "output_type": "execute_result",
          "data": {
            "text/plain": [
              "True"
            ]
          },
          "metadata": {
            "tags": []
          },
          "execution_count": 13
        }
      ]
    },
    {
      "cell_type": "code",
      "metadata": {
        "id": "kNGSzA31yWm6",
        "colab_type": "code",
        "colab": {
          "base_uri": "https://localhost:8080/",
          "height": 35
        },
        "outputId": "72e17fc2-1b0b-4be8-b80d-ffbdc113b20a"
      },
      "source": [
        "is_vowel('b')"
      ],
      "execution_count": 14,
      "outputs": [
        {
          "output_type": "execute_result",
          "data": {
            "text/plain": [
              "False"
            ]
          },
          "metadata": {
            "tags": []
          },
          "execution_count": 14
        }
      ]
    },
    {
      "cell_type": "code",
      "metadata": {
        "id": "JRRJrtiOyZcV",
        "colab_type": "code",
        "colab": {}
      },
      "source": [
        ""
      ],
      "execution_count": 0,
      "outputs": []
    }
  ]
}