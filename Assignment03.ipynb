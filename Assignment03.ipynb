{
  "nbformat": 4,
  "nbformat_minor": 0,
  "metadata": {
    "colab": {
      "name": "Assignment03.ipynb",
      "provenance": [],
      "collapsed_sections": [],
      "authorship_tag": "ABX9TyPWQrs6bi3EWJruCMXFtx5o",
      "include_colab_link": true
    },
    "kernelspec": {
      "name": "python3",
      "display_name": "Python 3"
    }
  },
  "cells": [
    {
      "cell_type": "markdown",
      "metadata": {
        "id": "view-in-github",
        "colab_type": "text"
      },
      "source": [
        "<a href=\"https://colab.research.google.com/github/vikasmastud7/machinelearning/blob/master/Assignment03.ipynb\" target=\"_parent\"><img src=\"https://colab.research.google.com/assets/colab-badge.svg\" alt=\"Open In Colab\"/></a>"
      ]
    },
    {
      "cell_type": "markdown",
      "metadata": {
        "id": "eRJJ3zLSPq6D",
        "colab_type": "text"
      },
      "source": [
        "<h1>Assignment 3</h1>\n",
        "<h2>Task 1:<h2>\n",
        "<h3>Q 1.</h3>\n",
        "<p>Write a function to compute 5/0 and use try/except to catch the exceptions.</p>"
      ]
    },
    {
      "cell_type": "code",
      "metadata": {
        "id": "x5q5IAExPpSs",
        "colab_type": "code",
        "colab": {}
      },
      "source": [
        "def safe_division(num1 , num2):\n",
        "  ans = 0\n",
        "  try:\n",
        "    return num1/num2\n",
        "  except ZeroDivisionError:\n",
        "    return 0\n",
        "\n",
        "assert safe_division(5,0) == 0\n",
        "assert safe_division(10,2) == 5"
      ],
      "execution_count": 0,
      "outputs": []
    },
    {
      "cell_type": "markdown",
      "metadata": {
        "id": "khfw4CoyRddm",
        "colab_type": "text"
      },
      "source": [
        "<h3>Q2.</h3>\n",
        "<p>Implement a Python program to generate all sentences where subject is in [\"Americans\",\n",
        "\"Indians\"] and verb is in [\"Play\", \"watch\"] and the object is in [\"Baseball\",\"cricket\"].</p><p>\n",
        "Hint: Subject,Verb and Object should be declared in the program as shown below.\n",
        "subjects=[\"Americans \",\"Indians\"]\n",
        "verbs=[\"play\",\"watch\"]\n",
        "objects=[\"Baseball\",\"Cricket\"]</p>\n",
        "<h3>Output should come as below:</h3>\n",
        "<p>Americans play Baseball.<br>\n",
        "Americans play Cricket.<br>\n",
        "Americans watch Baseball.<br>\n",
        "Americans watch Cricket.<br>\n",
        "Indians play Baseball.<br>\n",
        "Indians play Cricket.<br>\n",
        "Indians watch Baseball.<br>\n",
        "Indians watch Cricket.<br></p>"
      ]
    },
    {
      "cell_type": "code",
      "metadata": {
        "id": "Nif-s6opQ96t",
        "colab_type": "code",
        "outputId": "df1b847c-1f84-4c1f-d059-ea50fc238c7e",
        "colab": {
          "base_uri": "https://localhost:8080/",
          "height": 158
        }
      },
      "source": [
        "def sentences_generator(subject , verb, objects):\n",
        "  for sub in subject:\n",
        "    for v in verb:\n",
        "      for obj in objects:\n",
        "        yield sub , v , obj\n",
        "subjects=[\"Americans \",\"Indians\"]\n",
        "verbs=[\"play\",\"watch\"]\n",
        "objects=[\"Baseball\",\"Cricket\"]\n",
        "for i in sentences_generator(subjects, verbs,objects):\n",
        "  print(\" \".join(i))"
      ],
      "execution_count": 6,
      "outputs": [
        {
          "output_type": "stream",
          "text": [
            "Americans  play Baseball\n",
            "Americans  play Cricket\n",
            "Americans  watch Baseball\n",
            "Americans  watch Cricket\n",
            "Indians play Baseball\n",
            "Indians play Cricket\n",
            "Indians watch Baseball\n",
            "Indians watch Cricket\n"
          ],
          "name": "stdout"
        }
      ]
    },
    {
      "cell_type": "markdown",
      "metadata": {
        "id": "eTEUL3tU7fKg",
        "colab_type": "text"
      },
      "source": [
        "<h1>Task 2:</h1>\n",
        "<h3>Q 1.</h3>\n",
        "<p>\n",
        "Write a function so that the columns of the output matrix are powers of the input vector.\n",
        "The order of the powers is determined by the increasing boolean argument. Specifically, when\n",
        "increasing is False, the i-th output column is the input vector raised element-wise to the power\n",
        "of N - i - 1.<br>\n",
        "HINT: Such a matrix with a geometric progression in each row is named for Alexandre-\n",
        "Theophile Vandermonde.\n",
        "</p>"
      ]
    },
    {
      "cell_type": "code",
      "metadata": {
        "id": "8opRm_QD7W9R",
        "colab_type": "code",
        "colab": {
          "base_uri": "https://localhost:8080/",
          "height": 388
        },
        "outputId": "69a8a6cf-b6cc-4bb1-8e2a-f869b863459b"
      },
      "source": [
        "import numpy as np\n",
        "def vander( x , N = None, increasing = False):\n",
        "  if x == []:\n",
        "    return []\n",
        "  else:\n",
        "    try:\n",
        "      assert type(x) == list\n",
        "      assert type(x[0]) != list\n",
        "    except :\n",
        "      raise ValueError(\"x must be a one-dimensional array or sequence.\")\n",
        "  if N == None:\n",
        "    N = len(x)\n",
        "  if increasing:\n",
        "    ans = [ [ j ** i for j in x] for i in range(N) ]\n",
        "  else:\n",
        "    ans = [ [ j ** (N -1 - i) for j in x] for i in range(N) ]\n",
        "  ans = np.array(ans).T\n",
        "  return ans\n",
        "\n",
        "x = [1,2,3,4,5, 6]\n",
        "N = 4\n",
        "\n",
        "print(vander(x),\"\\n\")\n",
        "print(vander(x, N),\"\\n\")\n",
        "print(vander(x, N , increasing= True),\"\\n\")"
      ],
      "execution_count": 7,
      "outputs": [
        {
          "output_type": "stream",
          "text": [
            "[[   1    1    1    1    1    1]\n",
            " [  32   16    8    4    2    1]\n",
            " [ 243   81   27    9    3    1]\n",
            " [1024  256   64   16    4    1]\n",
            " [3125  625  125   25    5    1]\n",
            " [7776 1296  216   36    6    1]] \n",
            "\n",
            "[[  1   1   1   1]\n",
            " [  8   4   2   1]\n",
            " [ 27   9   3   1]\n",
            " [ 64  16   4   1]\n",
            " [125  25   5   1]\n",
            " [216  36   6   1]] \n",
            "\n",
            "[[  1   1   1   1]\n",
            " [  1   2   4   8]\n",
            " [  1   3   9  27]\n",
            " [  1   4  16  64]\n",
            " [  1   5  25 125]\n",
            " [  1   6  36 216]] \n",
            "\n"
          ],
          "name": "stdout"
        }
      ]
    },
    {
      "cell_type": "code",
      "metadata": {
        "id": "hbC_0iteLIUH",
        "colab_type": "code",
        "colab": {}
      },
      "source": [
        ""
      ],
      "execution_count": 0,
      "outputs": []
    }
  ]
}