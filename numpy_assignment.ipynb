{
  "nbformat": 4,
  "nbformat_minor": 0,
  "metadata": {
    "colab": {
      "name": "numpy assignment.ipynb",
      "provenance": [],
      "collapsed_sections": [],
      "authorship_tag": "ABX9TyPrxT5rKiPfHoZh5qXYvBgo",
      "include_colab_link": true
    },
    "kernelspec": {
      "name": "python3",
      "display_name": "Python 3"
    }
  },
  "cells": [
    {
      "cell_type": "markdown",
      "metadata": {
        "id": "view-in-github",
        "colab_type": "text"
      },
      "source": [
        "<a href=\"https://colab.research.google.com/github/vikasmastud7/machinelearning/blob/master/numpy_assignment.ipynb\" target=\"_parent\"><img src=\"https://colab.research.google.com/assets/colab-badge.svg\" alt=\"Open In Colab\"/></a>"
      ]
    },
    {
      "cell_type": "markdown",
      "metadata": {
        "id": "JVcl0pcqh9IL",
        "colab_type": "text"
      },
      "source": [
        "Write a function so that the columns of the output matrix are powers of the input\n",
        "vector.\n",
        "The order of the powers is determined by the increasing boolean argument. Specifically, when\n",
        "increasing is False, the i-th output column is the input vector raised element-wise to the power\n",
        "of N - i - 1.\n",
        "\n",
        "HINT: Such a matrix with a geometric progression in each row is named for Alexandre-\n",
        "Theophile Vandermonde."
      ]
    },
    {
      "cell_type": "code",
      "metadata": {
        "id": "A5MjQfcah2W8",
        "colab_type": "code",
        "outputId": "2a20c86c-7b11-408b-d278-f8b38fe440fd",
        "colab": {
          "base_uri": "https://localhost:8080/",
          "height": 388
        }
      },
      "source": [
        "import numpy as np\n",
        "def vander( x , N = None, increasing = False):\n",
        "  if x == []:\n",
        "    return []\n",
        "  else:\n",
        "    try:\n",
        "      assert type(x) == list\n",
        "      assert type(x[0]) != list\n",
        "    except :\n",
        "      raise ValueError(\"x must be a one-dimensional array or sequence.\")\n",
        "  if N == None:\n",
        "    N = len(x)\n",
        "  if increasing:\n",
        "    ans = [ [ j ** i for j in x] for i in range(N) ]\n",
        "  else:\n",
        "    ans = [ [ j ** (N -1 - i) for j in x] for i in range(N) ]\n",
        "  ans = np.array(ans).T\n",
        "  return ans\n",
        "\n",
        "x = [1,2,3,4,5, 6]\n",
        "N = 4\n",
        "\n",
        "print(vander(x),\"\\n\")\n",
        "print(vander(x, N),\"\\n\")\n",
        "print(vander(x, N , increasing= True),\"\\n\")"
      ],
      "execution_count": 0,
      "outputs": [
        {
          "output_type": "stream",
          "text": [
            "[[   1    1    1    1    1    1]\n",
            " [  32   16    8    4    2    1]\n",
            " [ 243   81   27    9    3    1]\n",
            " [1024  256   64   16    4    1]\n",
            " [3125  625  125   25    5    1]\n",
            " [7776 1296  216   36    6    1]] \n",
            "\n",
            "[[  1   1   1   1]\n",
            " [  8   4   2   1]\n",
            " [ 27   9   3   1]\n",
            " [ 64  16   4   1]\n",
            " [125  25   5   1]\n",
            " [216  36   6   1]] \n",
            "\n",
            "[[  1   1   1   1]\n",
            " [  1   2   4   8]\n",
            " [  1   3   9  27]\n",
            " [  1   4  16  64]\n",
            " [  1   5  25 125]\n",
            " [  1   6  36 216]] \n",
            "\n"
          ],
          "name": "stdout"
        }
      ]
    },
    {
      "cell_type": "markdown",
      "metadata": {
        "id": "UJkA0nT_jsss",
        "colab_type": "text"
      },
      "source": [
        "Write a function to find moving average in an array over a window:\n",
        "Test it over [3, 5, 7, 2, 8, 10, 11, 65, 72, 81, 99, 100, 150] and window of 3."
      ]
    },
    {
      "cell_type": "code",
      "metadata": {
        "id": "kW3TbKz9iLT1",
        "colab_type": "code",
        "outputId": "eab5714a-74b4-42b3-ffc3-32b4e716e6f0",
        "colab": {
          "base_uri": "https://localhost:8080/",
          "height": 70
        }
      },
      "source": [
        "def moving_avg(arr , w):\n",
        "  if arr == []:\n",
        "    return []\n",
        "  assert len(arr) > w\n",
        "  l = len(arr) - w +1\n",
        "  mov_avg = []\n",
        "  y1 = sum(arr[:w])\n",
        "  mov_avg.append(y1)\n",
        "  l = 0\n",
        "  r = w\n",
        "  ans = y1\n",
        "  while r < len(arr):\n",
        "    ans = ans - arr[l] + arr[r]\n",
        "    mov_avg.append(ans)\n",
        "    r +=1\n",
        "    l +=1\n",
        "  return np.array(mov_avg)/w\n",
        "\n",
        "moving_avg([3, 5, 7, 2, 8, 10, 11, 65, 72, 81, 99, 100, 150],3)\n"
      ],
      "execution_count": 0,
      "outputs": [
        {
          "output_type": "execute_result",
          "data": {
            "text/plain": [
              "array([  5.        ,   4.66666667,   5.66666667,   6.66666667,\n",
              "         9.66666667,  28.66666667,  49.33333333,  72.66666667,\n",
              "        84.        ,  93.33333333, 116.33333333])"
            ]
          },
          "metadata": {
            "tags": []
          },
          "execution_count": 2
        }
      ]
    },
    {
      "cell_type": "code",
      "metadata": {
        "id": "FfuCUDIInD21",
        "colab_type": "code",
        "colab": {}
      },
      "source": [
        ""
      ],
      "execution_count": 0,
      "outputs": []
    }
  ]
}